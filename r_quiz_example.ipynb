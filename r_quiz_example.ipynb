{
 "cells": [
  {
   "cell_type": "markdown",
   "id": "c84c3dcd-3823-412a-8389-abda5e21fa78",
   "metadata": {},
   "source": [
    "# R kernel workaround for jupyterquiz/jupytercards\n",
    "Although the jupyterquiz and jupytercards packages are written in python, there is any easy workaround using the html conversion. Basically, you can build your quizzes normally using the python packages and then just convert the quizzes to html as previously outlined. Once the quizzes have been converted to html format you can display them within an R kernel notebook using IRdisplay.\n",
    "\n",
    "<div class=\"alert alert-block alert-info\">\n",
    "    <i class=\"fa fa-exclamation-circle\" aria-hidden=\"true\"></i>\n",
    "    <b>Note: </b> Confirm that you have converted the quiz and flashcard .json files to html before running the cells below.\n",
    "</div>"
   ]
  },
  {
   "cell_type": "code",
   "execution_count": null,
   "id": "5d763288-b6b2-40c5-a958-721bd64414f2",
   "metadata": {
    "tags": []
   },
   "outputs": [],
   "source": [
    "#jupyterquiz example\n",
    "IRdisplay::display_html('<iframe src=\"html/quiz_html_example.html\" width=100% height=450></iframe>')"
   ]
  },
  {
   "cell_type": "code",
   "execution_count": null,
   "id": "50f6d198-cc1b-41cd-8999-02a1b76a5af4",
   "metadata": {
    "tags": []
   },
   "outputs": [],
   "source": [
    "#jupytercards example\n",
    "IRdisplay::display_html('<iframe src=\"html/flashcard_html_example.html\" width=100% height=450></iframe>')"
   ]
  }
 ],
 "metadata": {
  "kernelspec": {
   "display_name": "R",
   "language": "R",
   "name": "ir"
  },
  "language_info": {
   "codemirror_mode": "r",
   "file_extension": ".r",
   "mimetype": "text/x-r-source",
   "name": "R",
   "pygments_lexer": "r",
   "version": "4.4.1"
  }
 },
 "nbformat": 4,
 "nbformat_minor": 5
}
